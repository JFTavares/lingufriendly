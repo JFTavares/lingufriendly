{
 "cells": [
  {
   "cell_type": "markdown",
   "metadata": {},
   "source": [
    "# Tema 5: estructuras de datos (III)"
   ]
  },
  {
   "cell_type": "markdown",
   "metadata": {},
   "source": [
    "## Diccionarios\n",
    "Los diccionarios son estructuras de datos que almacenan pares clave-valor y nos permiten recuperar los valores asociados a las claves de manera muy rápida.\n",
    "\n",
    "Por ejemplo, podemos utilizar un diccionario para almacenar la información de un empleado en una empresa: su nombre, apellidos, edad, puesto de trabajo, estudios, etc. Cada uno de esos campos será una clave en nuestro diccionario que tendrá asociado un valor concreto para ese empleado."
   ]
  },
  {
   "cell_type": "markdown",
   "metadata": {},
   "source": [
    "### Crear diccionarios\n",
    "La forma más sencilla de crear un diccionario es enumerando los pares clave-valor entre llaves. Los pares se separan con dos puntos (`:`):"
   ]
  },
  {
   "cell_type": "code",
   "execution_count": 1,
   "metadata": {},
   "outputs": [
    {
     "name": "stdout",
     "output_type": "stream",
     "text": [
      "{'título': 'Cien años de soledad', 'autor': 'Gabriel García Márquez', 'año de publicación': 1967}\n"
     ]
    }
   ],
   "source": [
    "ficha_libro = { \"título\": \"Cien años de soledad\", \"autor\": \"Gabriel García Márquez\",\n",
    "               \"año de publicación\": 1967 }\n",
    "print(ficha_libro)"
   ]
  },
  {
   "cell_type": "markdown",
   "metadata": {},
   "source": [
    "Este diccionario contiene 3 __claves__ (“título”, “autor” y “año de publicación”) y tres __valores__ asociados a esas respectivas claves (“Cien años de soledad”, “Gabriel García Márquez” y 1967).\n",
    "\n",
    "Fíjate en que, aunque en las claves y los valores del diccionario usemos las comillas, estas no son parte del contenido de esas claves y valores, sino que solo indican que son strings.\n",
    "\n",
    "Podemos crear diccionarios vacíos usando `{}`:"
   ]
  },
  {
   "cell_type": "code",
   "execution_count": 9,
   "metadata": {},
   "outputs": [],
   "source": [
    "dic_vacio = {}"
   ]
  },
  {
   "cell_type": "markdown",
   "metadata": {},
   "source": [
    "### Número de claves\n",
    "La función `len()` devuelve el número de claves almacenadas en el diccionario. Si el diccionario está vacío, no contiene ninguna clave:"
   ]
  },
  {
   "cell_type": "code",
   "execution_count": 2,
   "metadata": {},
   "outputs": [
    {
     "name": "stdout",
     "output_type": "stream",
     "text": [
      "{'título': 'Cien años de soledad', 'autor': 'Gabriel García Márquez', 'año de publicación': 1967}\n",
      "3\n",
      "0\n"
     ]
    }
   ],
   "source": [
    "ficha_libro = { \"título\": \"Cien años de soledad\", \"autor\": \"Gabriel García Márquez\",\n",
    "               \"año de publicación\": 1967 }\n",
    "print(ficha_libro)\n",
    "print(len(ficha_libro))\n",
    "\n",
    "print(len({}))"
   ]
  },
  {
   "cell_type": "markdown",
   "metadata": {},
   "source": [
    "### Consultar si un diccionario contiene una clave\n",
    "Al igual que con las listas y los conjuntos, podemos comprobar si una clave aparece en el diccionario usando el operador `in`:"
   ]
  },
  {
   "cell_type": "code",
   "execution_count": 11,
   "metadata": {},
   "outputs": [
    {
     "name": "stdout",
     "output_type": "stream",
     "text": [
      "La ficha del libro no indica el género.\n"
     ]
    }
   ],
   "source": [
    "if \"género\" in ficha_libro:\n",
    "    print(ficha_libro[\"género\"])\n",
    "else:\n",
    "    print(\"La ficha del libro no indica el género.\")"
   ]
  },
  {
   "cell_type": "markdown",
   "metadata": {},
   "source": [
    "### Acceder al valor asociado a una clave y modificarlo\n",
    "Para acceder al valor asociado a una clave escribimos la clave entre corchetes, pegado al nombre del diccionario:"
   ]
  },
  {
   "cell_type": "code",
   "execution_count": 13,
   "metadata": {},
   "outputs": [
    {
     "name": "stdout",
     "output_type": "stream",
     "text": [
      "Cien años de soledad\n",
      "Gabriel García Márquez\n",
      "1967\n"
     ]
    }
   ],
   "source": [
    "print(ficha_libro[\"título\"])\n",
    "print(ficha_libro[\"autor\"])\n",
    "print(ficha_libro[\"año de publicación\"])"
   ]
  },
  {
   "cell_type": "markdown",
   "metadata": {},
   "source": [
    "Del mismo modo, podemos modicar el valor asociado a una clave asignándole el nuevo valor:"
   ]
  },
  {
   "cell_type": "code",
   "execution_count": 14,
   "metadata": {},
   "outputs": [
    {
     "name": "stdout",
     "output_type": "stream",
     "text": [
      "{'título': 'Cien años de soledad', 'autor': 'García Márquez, Gabriel', 'año de publicación': 1967}\n"
     ]
    }
   ],
   "source": [
    "ficha_libro[\"autor\"] = \"García Márquez, Gabriel\"\n",
    "print(ficha_libro)"
   ]
  },
  {
   "cell_type": "markdown",
   "metadata": {},
   "source": [
    "### Añadir un nuevo elemento\n",
    "Para añadir elementos a un diccionario basta con asignar un valor a una clave que aún no existe:"
   ]
  },
  {
   "cell_type": "code",
   "execution_count": 16,
   "metadata": {},
   "outputs": [
    {
     "name": "stdout",
     "output_type": "stream",
     "text": [
      "{'título': 'Cien años de soledad', 'autor': 'García Márquez, Gabriel', 'año de publicación': 1967, 'género': 'realismo mágico'}\n"
     ]
    }
   ],
   "source": [
    "ficha_libro[\"género\"] = \"realismo mágico\"\n",
    "print(ficha_libro)"
   ]
  },
  {
   "cell_type": "markdown",
   "metadata": {},
   "source": [
    "### Eliminar un elemento\n",
    "Para eliminar una clave del diccionario y su valor asociado escribiremos la palabra reservada `del` y después la clave que queramos eliminar:"
   ]
  },
  {
   "cell_type": "code",
   "execution_count": 17,
   "metadata": {},
   "outputs": [
    {
     "name": "stdout",
     "output_type": "stream",
     "text": [
      "{'título': 'Cien años de soledad', 'autor': 'García Márquez, Gabriel', 'año de publicación': 1967}\n"
     ]
    }
   ],
   "source": [
    "del ficha_libro[\"género\"]\n",
    "print(ficha_libro)"
   ]
  },
  {
   "cell_type": "markdown",
   "metadata": {},
   "source": [
    "Si intentamos eliminar una clave que no existe en el diccionario, se producirá un error:"
   ]
  },
  {
   "cell_type": "code",
   "execution_count": 19,
   "metadata": {},
   "outputs": [
    {
     "ename": "KeyError",
     "evalue": "'número de páginas'",
     "output_type": "error",
     "traceback": [
      "\u001b[0;31m---------------------------------------------------------------------------\u001b[0m",
      "\u001b[0;31mKeyError\u001b[0m                                  Traceback (most recent call last)",
      "\u001b[0;32m<ipython-input-19-6bb14552cbdc>\u001b[0m in \u001b[0;36m<module>\u001b[0;34m\u001b[0m\n\u001b[0;32m----> 1\u001b[0;31m \u001b[0;32mdel\u001b[0m \u001b[0mficha_libro\u001b[0m\u001b[0;34m[\u001b[0m\u001b[0;34m\"número de páginas\"\u001b[0m\u001b[0;34m]\u001b[0m\u001b[0;34m\u001b[0m\u001b[0m\n\u001b[0m",
      "\u001b[0;31mKeyError\u001b[0m: 'número de páginas'"
     ]
    }
   ],
   "source": [
    "del ficha_libro[\"número de páginas\"]"
   ]
  },
  {
   "cell_type": "markdown",
   "metadata": {},
   "source": [
    "# Ejercicios\n",
    "## 050301\n",
    "Crea un diccionario con información de un libro, película, disco musical, videojuego... Escribe un programa que le diga al usuario que puede consultar los datos que quiera de esa obra. Si el dato no está recogido en el diccionario, que imprima un mensaje que diga que esa información no está disponible."
   ]
  },
  {
   "cell_type": "markdown",
   "metadata": {},
   "source": [
    "## 050302\n",
    "Escribe un programa que rete al usuario a adivinar la obra anterior. Debe darle a elegir el dato que quiere consultar (de entre 6 datos o más) y, una vez elegido, responder con el dato. El usuario debe hacer 4 preguntas; tras la cuarta, debe introducir el título de la obra que crea que es."
   ]
  },
  {
   "cell_type": "markdown",
   "metadata": {},
   "source": [
    "## 050303\n",
    "Crea un diccionario que contenga como claves los nombres de los números del 1 al 10 en español (uno, dos…) y como valores los nombres de los mismos números en inglés (one, two…). Después pide al usuario números en español y muéstrale su traducción al inglés."
   ]
  }
 ],
 "metadata": {
  "kernelspec": {
   "display_name": "Python 3",
   "language": "python",
   "name": "python3"
  },
  "language_info": {
   "codemirror_mode": {
    "name": "ipython",
    "version": 3
   },
   "file_extension": ".py",
   "mimetype": "text/x-python",
   "name": "python",
   "nbconvert_exporter": "python",
   "pygments_lexer": "ipython3",
   "version": "3.7.0"
  }
 },
 "nbformat": 4,
 "nbformat_minor": 2
}
